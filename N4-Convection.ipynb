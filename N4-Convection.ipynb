{
 "cells": [
  {
   "cell_type": "code",
   "execution_count": 1,
   "metadata": {},
   "outputs": [],
   "source": [
    "from utility import *"
   ]
  },
  {
   "cell_type": "markdown",
   "metadata": {},
   "source": [
    "Sous-entendu: free et forced convection"
   ]
  },
  {
   "cell_type": "markdown",
   "metadata": {},
   "source": [
    "# Forced external convection around cylinder"
   ]
  },
  {
   "cell_type": "code",
   "execution_count": 2,
   "metadata": {},
   "outputs": [],
   "source": [
    "def forced_ext_cylinder():\n",
    "    print('Churchill-Bernstein - Forced external convection around cyclinder')\n",
    "    p = get_params(['Re_D', 'Pr'])\n",
    "    \n",
    "    num = .62 * p['Re_D'] ** .5 * p['Pr']**(1/3)\n",
    "    den = (1 + (.4 / p['Pr'])**(2/3) )**(1/4)\n",
    "    factor = (1 + (p['Re_D']/282000)**(5/8) ) ** (4/5)\n",
    "    res = .3 + num / den * factor\n",
    "    out('Nu_D', res)"
   ]
  },
  {
   "cell_type": "markdown",
   "metadata": {},
   "source": [
    "# Free convection\n",
    "\n",
    "## External\n",
    "\n",
    "### Vertical plate"
   ]
  },
  {
   "cell_type": "code",
   "execution_count": 3,
   "metadata": {},
   "outputs": [],
   "source": [
    "def free_ext_vertical_local():\n",
    "    print('Laminar local value - Free external convection - Vertical plate')\n",
    "    p = get_params(['Gr_x', 'Pr'])\n",
    "    \n",
    "    g = .75*p['Pr']**.5 / (.609 + 1.221*p['Pr']**.5 + 1.238*p['Pr'])**(1/4)\n",
    "    Nu_x = (p['Gr_x'] / 4)**(1/4) * g\n",
    "    out('g(Pr)', g)\n",
    "    out('Nu_x', Nu_x)"
   ]
  },
  {
   "cell_type": "code",
   "execution_count": 4,
   "metadata": {},
   "outputs": [],
   "source": [
    "def free_ext_vertical_avg():\n",
    "    print('Average value (Churchill&Chu) - Free external convection - Vertical plate')\n",
    "    p = get_params(['Ra_L', 'Pr'])\n",
    "    \n",
    "    num = 0.387 * p['Ra_L']**(1/6)\n",
    "    den = (1 + (.492/p['Pr'])**(9/16) ) **(8/27)\n",
    "    Nu_L = (0.825 + num/den) ** 2\n",
    "    out('Nu_L', Nu_L)"
   ]
  },
  {
   "cell_type": "code",
   "execution_count": 5,
   "metadata": {},
   "outputs": [],
   "source": [
    "def free_ext_infcylinder():\n",
    "    print('Infinite cyclinder - Free external convection (la&turb)')\n",
    "    p = get_params(['Ra_D', 'Pr'])\n",
    "    \n",
    "    num = 0.387 * p['Ra_L']**(1/6)\n",
    "    den = (1 + (.559/p['Pr'])**(9/16) ) **(8/27)\n",
    "    Nu_L = (0.6 + num/den) ** 2\n",
    "    out('Nu_L', Nu_L)"
   ]
  },
  {
   "cell_type": "markdown",
   "metadata": {},
   "source": [
    "# Options"
   ]
  },
  {
   "cell_type": "code",
   "execution_count": 6,
   "metadata": {},
   "outputs": [],
   "source": [
    "optmap = {'forced-ext-cyclinder':forced_ext_cylinder, 'free-ext-vert-local':free_ext_vertical_local, \n",
    "          'free-ext-vert-avg':free_ext_vertical_avg, 'free-ext-infcyl':free_ext_infcylinder}"
   ]
  },
  {
   "cell_type": "markdown",
   "metadata": {},
   "source": [
    "# Test"
   ]
  },
  {
   "cell_type": "code",
   "execution_count": 7,
   "metadata": {},
   "outputs": [
    {
     "name": "stdin",
     "output_type": "stream",
     "text": [
      "Choose type forced-ext-cyclinder:1, free-ext-vert-local:2, free-ext-vert-avg:3, free-ext-infcyl:4: 3\n"
     ]
    },
    {
     "name": "stdout",
     "output_type": "stream",
     "text": [
      "Average value (Churchill&Chu) - Free external convection - Vertical plate\n"
     ]
    },
    {
     "name": "stdin",
     "output_type": "stream",
     "text": [
      "Ra_L =  8e9\n",
      "Pr =  .707\n"
     ]
    },
    {
     "name": "stdout",
     "output_type": "stream",
     "text": [
      "{'Ra_L': 8000000000.0, 'Pr': 0.707}\n",
      "Nu_L = 234.98\n"
     ]
    }
   ],
   "source": [
    "choose_opt('type', optmap)"
   ]
  },
  {
   "cell_type": "code",
   "execution_count": null,
   "metadata": {},
   "outputs": [],
   "source": []
  }
 ],
 "metadata": {
  "kernelspec": {
   "display_name": "Python 3",
   "language": "python",
   "name": "python3"
  },
  "language_info": {
   "codemirror_mode": {
    "name": "ipython",
    "version": 3
   },
   "file_extension": ".py",
   "mimetype": "text/x-python",
   "name": "python",
   "nbconvert_exporter": "python",
   "pygments_lexer": "ipython3",
   "version": "3.7.3"
  }
 },
 "nbformat": 4,
 "nbformat_minor": 4
}
