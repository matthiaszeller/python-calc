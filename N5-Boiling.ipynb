{
 "cells": [
  {
   "cell_type": "code",
   "execution_count": 1,
   "metadata": {},
   "outputs": [],
   "source": [
    "from utility import *"
   ]
  },
  {
   "cell_type": "markdown",
   "metadata": {},
   "source": [
    "# Nucleate pool boiling\n",
    "\n"
   ]
  },
  {
   "cell_type": "code",
   "execution_count": 2,
   "metadata": {},
   "outputs": [],
   "source": [
    "def pool_nucl_qs():\n",
    "    print(\"q_s'' nucleate pool boiling\")\n",
    "    p = get_params(['mu_l', 'h_fg', 'rho_l', 'rho_v', 'sigma',\n",
    "                   'c_p,l', 'deltaT_e', 'C_s,f', 'Pr_l', 'n'])\n",
    "    factor1 = p['mu_l'] * p['h_fg']\n",
    "    factor2 = (9.81 * (p['rho_l']-p['rho_v']) / p['sigma']) ** .5\n",
    "    factor3 = ( (p['c_p,l'] * p['deltaT_e']) / (p['C_s,f']*p['h_fg']*p['Pr_l']**p['n'])) ** 3\n",
    "    out(\"q_s''\", factor1 * factor2 * factor3)"
   ]
  },
  {
   "cell_type": "code",
   "execution_count": 3,
   "metadata": {},
   "outputs": [],
   "source": [
    "def pool_nucl_qsmax():\n",
    "    print(\"q_smax'' nucleate pool boiling\")\n",
    "    p = get_params(['C', 'h_fg', 'rho_l', 'rho_v', 'sigma'])\n",
    "    \n",
    "    factor = (9.81 * p['sigma'] * (p['rho_l']-p['rho_v'])) / p['rho_v']**2\n",
    "    factor = factor ** (1/4)\n",
    "    qsmax = p['C'] * p['h_fg'] * p['rho_v'] * factor\n",
    "    out(\"q_smax''\", qsmax)"
   ]
  },
  {
   "cell_type": "code",
   "execution_count": 4,
   "metadata": {},
   "outputs": [],
   "source": [
    "def pool_nucl_deltaTe():\n",
    "    print('deltaT_e for pool nucleate boiling')\n",
    "    p = get_params([\"q_s''\", 'mu_l', 'h_fg', 'rho_l', 'rho_v', 'sigma',\n",
    "                   'c_p,l', 'C_s,f', 'Pr_l', 'n'])\n",
    "    factor1 = p[\"q_s''\"] / (p['mu_l'] * p['h_fg'])\n",
    "    factor2 = (9.81 * (p['rho_l']-p['rho_v']) / p['sigma']) ** (-0.5)\n",
    "    factor3 = (p['c_p,l'] / (p['C_s,f']*p['h_fg']*p['Pr_l']**p['n'])) ** (-1)\n",
    "    \n",
    "    factor4 = (factor1 * factor2) ** (1/3)\n",
    "    out('deltaTe', factor4 * factor3)"
   ]
  },
  {
   "cell_type": "markdown",
   "metadata": {},
   "source": [
    "# Options\n"
   ]
  },
  {
   "cell_type": "code",
   "execution_count": 5,
   "metadata": {},
   "outputs": [],
   "source": [
    "optmap = {\"pool-nucl-qs''\":pool_nucl_qs, \"pool-nucl-qsmax''\":pool_nucl_qsmax,\n",
    "         \"pool_nucl_deltaTe\":pool_nucl_deltaTe}"
   ]
  },
  {
   "cell_type": "markdown",
   "metadata": {},
   "source": [
    "# Test\n"
   ]
  },
  {
   "cell_type": "code",
   "execution_count": 7,
   "metadata": {},
   "outputs": [
    {
     "name": "stdin",
     "output_type": "stream",
     "text": [
      "Choose type pool-nucl-qs'':1, pool-nucl-qsmax'':2, pool_nucl_deltaTe:3: 2\n"
     ]
    },
    {
     "name": "stdout",
     "output_type": "stream",
     "text": [
      "q_smax'' nucleate pool boiling\n"
     ]
    },
    {
     "name": "stdin",
     "output_type": "stream",
     "text": [
      "C =  .1\n",
      "h_fg =  .3\n",
      "rho_l =  5\n",
      "rho_v =  .2\n",
      "sigma =  2\n"
     ]
    },
    {
     "name": "stdout",
     "output_type": "stream",
     "text": [
      "{'C': 0.1, 'h_fg': 0.3, 'rho_l': 5.0, 'rho_v': 0.2, 'sigma': 2.0}\n",
      "q_smax'' = 0.041795\n"
     ]
    }
   ],
   "source": [
    "choose_opt('type', optmap)"
   ]
  },
  {
   "cell_type": "code",
   "execution_count": 8,
   "metadata": {},
   "outputs": [
    {
     "name": "stdin",
     "output_type": "stream",
     "text": [
      "Choose type pool-nucl-qs'':1, pool-nucl-qsmax'':2, pool_nucl_deltaTe:3: 1\n"
     ]
    },
    {
     "name": "stdout",
     "output_type": "stream",
     "text": [
      "q_s'' nucleate pool boiling\n"
     ]
    },
    {
     "name": "stdin",
     "output_type": "stream",
     "text": [
      "mu_l =  2\n",
      "h_fg =  .2\n",
      "rho_l =  .5\n",
      "rho_v =  7.\n",
      "sigma =  \n",
      "sigma =  5.4\n",
      "c_p,l =  \n",
      "c_p,l =  3\n",
      "deltaT_e =  .4\n",
      "C_s,f =  .7\n",
      "Pr_l =  ,7\n",
      "Pr_l =  .7\n",
      "n =  1\n"
     ]
    },
    {
     "name": "stdout",
     "output_type": "stream",
     "text": [
      "{'mu_l': 2.0, 'h_fg': 0.2, 'rho_l': 0.5, 'rho_v': 7.0, 'sigma': 5.4, 'c_p,l': 3.0, 'deltaT_e': 0.4, 'C_s,f': 0.7, 'Pr_l': 0.7, 'n': 1.0}\n"
     ]
    },
    {
     "ename": "TypeError",
     "evalue": "'>' not supported between instances of 'complex' and 'int'",
     "output_type": "error",
     "traceback": [
      "\u001b[1;31m---------------------------------------------------------------------------\u001b[0m",
      "\u001b[1;31mTypeError\u001b[0m                                 Traceback (most recent call last)",
      "\u001b[1;32m<ipython-input-8-54d1b90e7c39>\u001b[0m in \u001b[0;36m<module>\u001b[1;34m\u001b[0m\n\u001b[1;32m----> 1\u001b[1;33m \u001b[0mchoose_opt\u001b[0m\u001b[1;33m(\u001b[0m\u001b[1;34m'type'\u001b[0m\u001b[1;33m,\u001b[0m \u001b[0moptmap\u001b[0m\u001b[1;33m)\u001b[0m\u001b[1;33m\u001b[0m\u001b[1;33m\u001b[0m\u001b[0m\n\u001b[0m",
      "\u001b[1;32mM:\\Google Drive\\Cours\\EPFL\\BA6\\Heat and mass transfer\\Calculator programming\\utility.py\u001b[0m in \u001b[0;36mchoose_opt\u001b[1;34m(descr, optmap)\u001b[0m\n\u001b[0;32m     32\u001b[0m     \u001b[1;32mexcept\u001b[0m\u001b[1;33m:\u001b[0m\u001b[1;33m\u001b[0m\u001b[1;33m\u001b[0m\u001b[0m\n\u001b[0;32m     33\u001b[0m         \u001b[0minp\u001b[0m \u001b[1;33m=\u001b[0m \u001b[0minp\u001b[0m\u001b[1;33m.\u001b[0m\u001b[0mlower\u001b[0m\u001b[1;33m(\u001b[0m\u001b[1;33m)\u001b[0m\u001b[1;33m\u001b[0m\u001b[1;33m\u001b[0m\u001b[0m\n\u001b[1;32m---> 34\u001b[1;33m     \u001b[1;32mreturn\u001b[0m \u001b[0moptmap\u001b[0m\u001b[1;33m[\u001b[0m\u001b[0minp\u001b[0m\u001b[1;33m]\u001b[0m\u001b[1;33m(\u001b[0m\u001b[1;33m)\u001b[0m\u001b[1;33m\u001b[0m\u001b[1;33m\u001b[0m\u001b[0m\n\u001b[0m",
      "\u001b[1;32m<ipython-input-2-a13c7b7336a4>\u001b[0m in \u001b[0;36mpool_nucl_qs\u001b[1;34m()\u001b[0m\n\u001b[0;32m      6\u001b[0m     \u001b[0mfactor2\u001b[0m \u001b[1;33m=\u001b[0m \u001b[1;33m(\u001b[0m\u001b[1;36m9.81\u001b[0m \u001b[1;33m*\u001b[0m \u001b[1;33m(\u001b[0m\u001b[0mp\u001b[0m\u001b[1;33m[\u001b[0m\u001b[1;34m'rho_l'\u001b[0m\u001b[1;33m]\u001b[0m\u001b[1;33m-\u001b[0m\u001b[0mp\u001b[0m\u001b[1;33m[\u001b[0m\u001b[1;34m'rho_v'\u001b[0m\u001b[1;33m]\u001b[0m\u001b[1;33m)\u001b[0m \u001b[1;33m/\u001b[0m \u001b[0mp\u001b[0m\u001b[1;33m[\u001b[0m\u001b[1;34m'sigma'\u001b[0m\u001b[1;33m]\u001b[0m\u001b[1;33m)\u001b[0m \u001b[1;33m**\u001b[0m \u001b[1;36m.5\u001b[0m\u001b[1;33m\u001b[0m\u001b[1;33m\u001b[0m\u001b[0m\n\u001b[0;32m      7\u001b[0m     \u001b[0mfactor3\u001b[0m \u001b[1;33m=\u001b[0m \u001b[1;33m(\u001b[0m \u001b[1;33m(\u001b[0m\u001b[0mp\u001b[0m\u001b[1;33m[\u001b[0m\u001b[1;34m'c_p,l'\u001b[0m\u001b[1;33m]\u001b[0m \u001b[1;33m*\u001b[0m \u001b[0mp\u001b[0m\u001b[1;33m[\u001b[0m\u001b[1;34m'deltaT_e'\u001b[0m\u001b[1;33m]\u001b[0m\u001b[1;33m)\u001b[0m \u001b[1;33m/\u001b[0m \u001b[1;33m(\u001b[0m\u001b[0mp\u001b[0m\u001b[1;33m[\u001b[0m\u001b[1;34m'C_s,f'\u001b[0m\u001b[1;33m]\u001b[0m\u001b[1;33m*\u001b[0m\u001b[0mp\u001b[0m\u001b[1;33m[\u001b[0m\u001b[1;34m'h_fg'\u001b[0m\u001b[1;33m]\u001b[0m\u001b[1;33m*\u001b[0m\u001b[0mp\u001b[0m\u001b[1;33m[\u001b[0m\u001b[1;34m'Pr_l'\u001b[0m\u001b[1;33m]\u001b[0m\u001b[1;33m**\u001b[0m\u001b[0mp\u001b[0m\u001b[1;33m[\u001b[0m\u001b[1;34m'n'\u001b[0m\u001b[1;33m]\u001b[0m\u001b[1;33m)\u001b[0m\u001b[1;33m)\u001b[0m \u001b[1;33m**\u001b[0m \u001b[1;36m3\u001b[0m\u001b[1;33m\u001b[0m\u001b[1;33m\u001b[0m\u001b[0m\n\u001b[1;32m----> 8\u001b[1;33m     \u001b[0mout\u001b[0m\u001b[1;33m(\u001b[0m\u001b[1;34m\"q_s''\"\u001b[0m\u001b[1;33m,\u001b[0m \u001b[0mfactor1\u001b[0m \u001b[1;33m*\u001b[0m \u001b[0mfactor2\u001b[0m \u001b[1;33m*\u001b[0m \u001b[0mfactor3\u001b[0m\u001b[1;33m)\u001b[0m\u001b[1;33m\u001b[0m\u001b[1;33m\u001b[0m\u001b[0m\n\u001b[0m",
      "\u001b[1;32mM:\\Google Drive\\Cours\\EPFL\\BA6\\Heat and mass transfer\\Calculator programming\\utility.py\u001b[0m in \u001b[0;36mout\u001b[1;34m(desc, val)\u001b[0m\n\u001b[0;32m     17\u001b[0m \u001b[0msci\u001b[0m \u001b[1;33m=\u001b[0m \u001b[1;32mlambda\u001b[0m \u001b[0mx\u001b[0m\u001b[1;33m:\u001b[0m \u001b[1;34m\"{:.4e}\"\u001b[0m\u001b[1;33m.\u001b[0m\u001b[0mformat\u001b[0m\u001b[1;33m(\u001b[0m\u001b[0mx\u001b[0m\u001b[1;33m)\u001b[0m\u001b[1;33m\u001b[0m\u001b[1;33m\u001b[0m\u001b[0m\n\u001b[0;32m     18\u001b[0m \u001b[1;32mdef\u001b[0m \u001b[0mout\u001b[0m\u001b[1;33m(\u001b[0m\u001b[0mdesc\u001b[0m\u001b[1;33m,\u001b[0m \u001b[0mval\u001b[0m\u001b[1;33m)\u001b[0m\u001b[1;33m:\u001b[0m\u001b[1;33m\u001b[0m\u001b[1;33m\u001b[0m\u001b[0m\n\u001b[1;32m---> 19\u001b[1;33m     \u001b[1;32mif\u001b[0m \u001b[0mval\u001b[0m \u001b[1;33m>\u001b[0m \u001b[1;36m9999\u001b[0m \u001b[1;32mor\u001b[0m \u001b[0mval\u001b[0m \u001b[1;33m<\u001b[0m \u001b[1;36m0.000999999\u001b[0m\u001b[1;33m:\u001b[0m\u001b[1;33m\u001b[0m\u001b[1;33m\u001b[0m\u001b[0m\n\u001b[0m\u001b[0;32m     20\u001b[0m         \u001b[0mval\u001b[0m \u001b[1;33m=\u001b[0m \u001b[0msci\u001b[0m\u001b[1;33m(\u001b[0m\u001b[0mval\u001b[0m\u001b[1;33m)\u001b[0m\u001b[1;33m\u001b[0m\u001b[1;33m\u001b[0m\u001b[0m\n\u001b[0;32m     21\u001b[0m     \u001b[1;32melse\u001b[0m\u001b[1;33m:\u001b[0m \u001b[0mval\u001b[0m \u001b[1;33m=\u001b[0m \u001b[1;34m\"{:.5}\"\u001b[0m\u001b[1;33m.\u001b[0m\u001b[0mformat\u001b[0m\u001b[1;33m(\u001b[0m\u001b[0mval\u001b[0m\u001b[1;33m)\u001b[0m\u001b[1;33m\u001b[0m\u001b[1;33m\u001b[0m\u001b[0m\n",
      "\u001b[1;31mTypeError\u001b[0m: '>' not supported between instances of 'complex' and 'int'"
     ]
    }
   ],
   "source": [
    "choose_opt('type', optmap)"
   ]
  }
 ],
 "metadata": {
  "kernelspec": {
   "display_name": "Python 3",
   "language": "python",
   "name": "python3"
  },
  "language_info": {
   "codemirror_mode": {
    "name": "ipython",
    "version": 3
   },
   "file_extension": ".py",
   "mimetype": "text/x-python",
   "name": "python",
   "nbconvert_exporter": "python",
   "pygments_lexer": "ipython3",
   "version": "3.7.7"
  }
 },
 "nbformat": 4,
 "nbformat_minor": 4
}
