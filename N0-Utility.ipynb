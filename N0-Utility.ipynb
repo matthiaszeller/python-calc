{
 "cells": [
  {
   "cell_type": "markdown",
   "metadata": {},
   "source": [
    "# Prompting"
   ]
  },
  {
   "cell_type": "code",
   "execution_count": 4,
   "metadata": {},
   "outputs": [],
   "source": [
    "\n",
    "def get(varname):\n",
    "    try:\n",
    "        inp = float(input(varname + ' = '))\n",
    "        return inp\n",
    "    except:\n",
    "        return get(varname)\n",
    "\n",
    "\n",
    "def get_params(lst):\n",
    "\tparams = {}\n",
    "\tfor p in lst:\n",
    "\t\tparams[p] = get(p)\n",
    "\tprint(params)\n",
    "\treturn params"
   ]
  },
  {
   "cell_type": "code",
   "execution_count": 3,
   "metadata": {},
   "outputs": [
    {
     "name": "stdin",
     "output_type": "stream",
     "text": [
      "x =  q\n",
      "x =  .\n",
      "x =  \n",
      "x =  3\n"
     ]
    }
   ],
   "source": [
    "get('x')"
   ]
  },
  {
   "cell_type": "markdown",
   "metadata": {},
   "source": [
    "# Output & Scientific notation"
   ]
  },
  {
   "cell_type": "code",
   "execution_count": 42,
   "metadata": {},
   "outputs": [],
   "source": [
    "sci = lambda x: \"{:.4e}\".format(x)\n",
    "def out(desc, val):\n",
    "    if val > 9999 or val < 0.000999999:\n",
    "        val = sci(val)\n",
    "    else: val = \"{:.5}\".format(val)\n",
    "    print(desc + ' = ' + val)"
   ]
  },
  {
   "cell_type": "code",
   "execution_count": 29,
   "metadata": {},
   "outputs": [
    {
     "data": {
      "text/plain": [
       "'3.0000e-03'"
      ]
     },
     "execution_count": 29,
     "metadata": {},
     "output_type": "execute_result"
    }
   ],
   "source": [
    "sci(0.003)"
   ]
  },
  {
   "cell_type": "code",
   "execution_count": 30,
   "metadata": {},
   "outputs": [
    {
     "data": {
      "text/plain": [
       "'3.4340e+09'"
      ]
     },
     "execution_count": 30,
     "metadata": {},
     "output_type": "execute_result"
    }
   ],
   "source": [
    "sci(3434e6)"
   ]
  },
  {
   "cell_type": "code",
   "execution_count": 46,
   "metadata": {},
   "outputs": [
    {
     "name": "stdout",
     "output_type": "stream",
     "text": [
      "Qf = 4.3501e+04\n"
     ]
    }
   ],
   "source": [
    "out('Qf', 43500.63445)"
   ]
  },
  {
   "cell_type": "code",
   "execution_count": 45,
   "metadata": {},
   "outputs": [
    {
     "name": "stdout",
     "output_type": "stream",
     "text": [
      "Qf = 697.23\n"
     ]
    }
   ],
   "source": [
    "out('Qf', 697.23445)"
   ]
  },
  {
   "cell_type": "markdown",
   "metadata": {},
   "source": [
    "# Choose an option\n",
    "\n",
    "Desgined to be called in the main content of any script (i.e. not inside function).\n",
    "\n",
    "Feature: make easy to select an option (i.e. possibility to run with numbers instead of letters)\n",
    "\n",
    "Example: fins, several types of boundary conditions."
   ]
  },
  {
   "cell_type": "code",
   "execution_count": 17,
   "metadata": {},
   "outputs": [],
   "source": [
    "# ONLY TEST CODE\n",
    "def dummy1() : return 1\n",
    "def dummy2() : return None\n",
    "optmap = {'a':dummy1, 'b':dummy2}"
   ]
  },
  {
   "cell_type": "code",
   "execution_count": 13,
   "metadata": {},
   "outputs": [],
   "source": [
    "def choose_opt(descr, optmap):\n",
    "    \"\"\"Only lowcase letter in optmap !\"\"\"\n",
    "    intmap = {i+1:opt for i, opt in enumerate(optmap)}\n",
    "    opt_txt = ', '.join([e+':'+str(k) for k,e in intmap.items()])\n",
    "    inp = input('Choose ' + descr + ' ' + opt_txt + ':')\n",
    "    try:\n",
    "        inp = int(inp)\n",
    "        inp = intmap[inp]\n",
    "    except:\n",
    "        inp = inp.lower()\n",
    "    return optmap[inp]()"
   ]
  },
  {
   "cell_type": "code",
   "execution_count": 14,
   "metadata": {},
   "outputs": [
    {
     "name": "stdin",
     "output_type": "stream",
     "text": [
      "Choose dummy option a:1, b:2: a\n"
     ]
    },
    {
     "data": {
      "text/plain": [
       "1"
      ]
     },
     "execution_count": 14,
     "metadata": {},
     "output_type": "execute_result"
    }
   ],
   "source": [
    "choose_opt('dummy option', optmap)"
   ]
  },
  {
   "cell_type": "code",
   "execution_count": 16,
   "metadata": {},
   "outputs": [
    {
     "name": "stdin",
     "output_type": "stream",
     "text": [
      "Choose dummy a:1, b:2: b\n"
     ]
    }
   ],
   "source": [
    "choose_opt('dummy', optmap)"
   ]
  }
 ],
 "metadata": {
  "kernelspec": {
   "display_name": "Python 3",
   "language": "python",
   "name": "python3"
  },
  "language_info": {
   "codemirror_mode": {
    "name": "ipython",
    "version": 3
   },
   "file_extension": ".py",
   "mimetype": "text/x-python",
   "name": "python",
   "nbconvert_exporter": "python",
   "pygments_lexer": "ipython3",
   "version": "3.7.7"
  }
 },
 "nbformat": 4,
 "nbformat_minor": 4
}
