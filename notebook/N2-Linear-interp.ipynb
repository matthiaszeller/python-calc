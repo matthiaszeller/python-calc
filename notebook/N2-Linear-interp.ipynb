{
 "cells": [
  {
   "cell_type": "code",
   "execution_count": 1,
   "metadata": {},
   "outputs": [],
   "source": [
    "import matplotlib.pyplot as plt"
   ]
  },
  {
   "cell_type": "markdown",
   "metadata": {},
   "source": [
    "# Script content"
   ]
  },
  {
   "cell_type": "code",
   "execution_count": 2,
   "metadata": {},
   "outputs": [],
   "source": [
    "def interp(T, T1, T2, v1, v2):\n",
    "    coef = (v2-v1)/(T2-T1)\n",
    "    return coef * (T - T1) + v1"
   ]
  },
  {
   "cell_type": "code",
   "execution_count": 3,
   "metadata": {},
   "outputs": [
    {
     "name": "stdin",
     "output_type": "stream",
     "text": [
      "Temp 1: 200\n",
      "Temp 2: 300\n",
      "Temp interp: 250\n",
      "v1: 4\n",
      "v2: 5\n"
     ]
    },
    {
     "name": "stdout",
     "output_type": "stream",
     "text": [
      "4.5\n"
     ]
    },
    {
     "name": "stdin",
     "output_type": "stream",
     "text": [
      "v1: 5\n",
      "v2: 4\n"
     ]
    },
    {
     "name": "stdout",
     "output_type": "stream",
     "text": [
      "4.5\n"
     ]
    },
    {
     "name": "stdin",
     "output_type": "stream",
     "text": [
      "v1: w\n"
     ]
    },
    {
     "ename": "ValueError",
     "evalue": "could not convert string to float: 'w'",
     "output_type": "error",
     "traceback": [
      "\u001b[1;31m---------------------------------------------------------------------------\u001b[0m",
      "\u001b[1;31mValueError\u001b[0m                                Traceback (most recent call last)",
      "\u001b[1;32m<ipython-input-3-c7649e500538>\u001b[0m in \u001b[0;36m<module>\u001b[1;34m\u001b[0m\n\u001b[0;32m      6\u001b[0m \u001b[1;33m\u001b[0m\u001b[0m\n\u001b[0;32m      7\u001b[0m \u001b[1;32mwhile\u001b[0m \u001b[1;32mTrue\u001b[0m\u001b[1;33m:\u001b[0m\u001b[1;33m\u001b[0m\u001b[1;33m\u001b[0m\u001b[0m\n\u001b[1;32m----> 8\u001b[1;33m     \u001b[0mv1\u001b[0m \u001b[1;33m=\u001b[0m \u001b[0mgetfloat\u001b[0m\u001b[1;33m(\u001b[0m\u001b[1;34m'v1:'\u001b[0m\u001b[1;33m)\u001b[0m\u001b[1;33m\u001b[0m\u001b[1;33m\u001b[0m\u001b[0m\n\u001b[0m\u001b[0;32m      9\u001b[0m     \u001b[0mv2\u001b[0m \u001b[1;33m=\u001b[0m \u001b[0mgetfloat\u001b[0m\u001b[1;33m(\u001b[0m\u001b[1;34m'v2:'\u001b[0m\u001b[1;33m)\u001b[0m\u001b[1;33m\u001b[0m\u001b[1;33m\u001b[0m\u001b[0m\n\u001b[0;32m     10\u001b[0m     \u001b[0mprint\u001b[0m\u001b[1;33m(\u001b[0m\u001b[0minterp\u001b[0m\u001b[1;33m(\u001b[0m\u001b[0mT\u001b[0m\u001b[1;33m,\u001b[0m \u001b[0mT1\u001b[0m\u001b[1;33m,\u001b[0m \u001b[0mT2\u001b[0m\u001b[1;33m,\u001b[0m \u001b[0mv1\u001b[0m\u001b[1;33m,\u001b[0m \u001b[0mv2\u001b[0m\u001b[1;33m)\u001b[0m\u001b[1;33m)\u001b[0m\u001b[1;33m\u001b[0m\u001b[1;33m\u001b[0m\u001b[0m\n",
      "\u001b[1;32m<ipython-input-3-c7649e500538>\u001b[0m in \u001b[0;36m<lambda>\u001b[1;34m(msg)\u001b[0m\n\u001b[0;32m      1\u001b[0m \u001b[1;31m# Rest of file\u001b[0m\u001b[1;33m\u001b[0m\u001b[1;33m\u001b[0m\u001b[1;33m\u001b[0m\u001b[0m\n\u001b[1;32m----> 2\u001b[1;33m \u001b[0mgetfloat\u001b[0m \u001b[1;33m=\u001b[0m \u001b[1;32mlambda\u001b[0m \u001b[0mmsg\u001b[0m\u001b[1;33m:\u001b[0m \u001b[0mfloat\u001b[0m\u001b[1;33m(\u001b[0m\u001b[0minput\u001b[0m\u001b[1;33m(\u001b[0m\u001b[0mmsg\u001b[0m\u001b[1;33m)\u001b[0m\u001b[1;33m)\u001b[0m\u001b[1;33m\u001b[0m\u001b[1;33m\u001b[0m\u001b[0m\n\u001b[0m\u001b[0;32m      3\u001b[0m \u001b[0mT1\u001b[0m \u001b[1;33m=\u001b[0m \u001b[0mgetfloat\u001b[0m\u001b[1;33m(\u001b[0m\u001b[1;34m'Temp 1:'\u001b[0m\u001b[1;33m)\u001b[0m\u001b[1;33m\u001b[0m\u001b[1;33m\u001b[0m\u001b[0m\n\u001b[0;32m      4\u001b[0m \u001b[0mT2\u001b[0m \u001b[1;33m=\u001b[0m \u001b[0mgetfloat\u001b[0m\u001b[1;33m(\u001b[0m\u001b[1;34m'Temp 2:'\u001b[0m\u001b[1;33m)\u001b[0m\u001b[1;33m\u001b[0m\u001b[1;33m\u001b[0m\u001b[0m\n\u001b[0;32m      5\u001b[0m \u001b[0mT\u001b[0m \u001b[1;33m=\u001b[0m \u001b[0mgetfloat\u001b[0m\u001b[1;33m(\u001b[0m\u001b[1;34m'Temp interp:'\u001b[0m\u001b[1;33m)\u001b[0m\u001b[1;33m\u001b[0m\u001b[1;33m\u001b[0m\u001b[0m\n",
      "\u001b[1;31mValueError\u001b[0m: could not convert string to float: 'w'"
     ]
    }
   ],
   "source": [
    "# Rest of file\n",
    "getfloat = lambda msg: float(input(msg))\n",
    "T1 = getfloat('Temp 1:')\n",
    "T2 = getfloat('Temp 2:')\n",
    "T = getfloat('Temp interp:')\n",
    "\n",
    "while True:\n",
    "    v1 = getfloat('v1:')\n",
    "    v2 = getfloat('v2:')\n",
    "    print(interp(T, T1, T2, v1, v2))"
   ]
  },
  {
   "cell_type": "markdown",
   "metadata": {},
   "source": [
    "# Interpolate thermophysical properties\n",
    "\n",
    "## Water\n"
   ]
  },
  {
   "cell_type": "code",
   "execution_count": 42,
   "metadata": {},
   "outputs": [
    {
     "name": "stdin",
     "output_type": "stream",
     "text": [
      "Temp 1: 360\n",
      "Temp 2: 365\n",
      "Temp interp: 363\n"
     ]
    },
    {
     "name": "stdout",
     "output_type": "stream",
     "text": [
      "{'p': 0.6992, 'v_f':\n",
      "0.0010364, 'v_g': 2.3852,\n",
      "'h_fg': 2283200.0, 'c_pf':\n",
      "4206.599999999999, 'c_pg':\n",
      "1992.6000000000001, 'mu_f':\n",
      "0.00031319999999999997,\n",
      "'mu_g':\n",
      "1.1609999999999999e-05,\n",
      "'k_f': 0.6758, 'k_g':\n",
      "0.023940000000000003,\n",
      "'Pr_f': 1.954, 'Pr_g':\n",
      "0.9653999999999999,\n",
      "'sigma_f': 0.06086,\n",
      "'beta_f': 0.00070342}\n",
      "p = 0.6992\n",
      "v_f = 0.0010364\n",
      "v_g = 2.3852\n",
      "h_fg = 2.2832e+06\n",
      "c_pf = 4206.6\n",
      "c_pg = 1992.6\n",
      "mu_f = 3.1320e-04\n",
      "mu_g = 1.1610e-05\n",
      "k_f = 0.6758\n",
      "k_g = 0.02394\n",
      "Pr_f = 1.954\n",
      "Pr_g = 0.9654\n",
      "sigma_f = 0.06086\n",
      "beta_f = 7.0342e-04\n"
     ]
    }
   ],
   "source": [
    "from utility import interp, pr, out\n",
    "\n",
    "cols = ['p', 'v_f', 'v_g', 'h_fg', 'c_pf', 'c_pg',\n",
    "        'mu_f', 'mu_g', 'k_f', 'k_g', 'Pr_f', 'Pr_g',\n",
    "        'sigma_f', 'beta_f']\n",
    "\n",
    "exponent = [0, 3, 0, -3, -3, -3, 6, 6, 3, 3, \n",
    "            0, 0, 3, 6, 0]\n",
    "\n",
    "data=\"\"\"273.15,0.00611,1,206.3,2502,4.217,1.854,1750,8.02,569,18.2,12.99,0.815,75.5,-68.05\n",
    "275,0.00697,1,181.7,2497,4.211,1.855,1652,8.09,574,18.3,12.22,0.817,75.3,-32.74\n",
    "280,0.0099,1,130.4,2485,4.198,1.858,1422,8.29,582,18.6,10.26,0.825,74.8,46.04\n",
    "285,0.01387,1,99.4,2473,4.189,1.861,1225,8.49,590,18.9,8.81,0.833,74.3,114.1\n",
    "290,0.01917,1.001,69.7,2461,4.184,1.864,1080,8.69,598,19.3,7.56,0.841,73.7,174\n",
    "295,0.02617,1.002,51.94,2449,4.181,1.868,959,8.89,606,19.5,6.62,0.849,72.7,227.5\n",
    "300,0.03531,1.003,39.13,2438,4.179,1.872,855,9.09,613,19.6,5.83,0.857,71.7,276.1\n",
    "305,0.04712,1.005,29.74,2426,4.178,1.877,769,9.29,620,20.1,5.2,0.865,70.9,320.6\n",
    "310,0.06221,1.007,22.93,2414,4.178,1.882,695,9.49,628,20.4,4.62,0.873,70,361.9\n",
    "315,0.08132,1.009,17.82,2402,4.179,1.888,631,9.69,634,20.7,4.16,0.883,69.2,400.4\n",
    "320,0.1053,1.011,13.98,2390,4.18,1.895,577,9.89,640,21,3.77,0.894,68.3,436.7\n",
    "325,0.1351,1.013,11.06,2378,4.182,1.903,528,10.09,645,21.3,3.42,0.901,67.5,471.2\n",
    "330,0.1719,1.016,8.82,2366,4.184,1.911,489,10.29,650,21.7,3.15,0.908,66.6,504\n",
    "335,0.2167,1.018,7.09,2354,4.186,1.92,453,10.49,656,22,2.88,0.916,65.8,535.5\n",
    "340,0.2713,1.021,5.74,2342,4.188,1.93,420,10.69,660,22.3,2.66,0.925,64.9,566\n",
    "345,0.3372,1.024,4.683,2329,4.191,1.941,389,10.89,664,22.6,2.45,0.933,64.1,595.4\n",
    "350,0.4163,1.027,3.846,2317,4.195,1.954,365,11.09,668,23,2.29,0.942,63.2,624.2\n",
    "355,0.51,1.03,3.18,2304,4.199,1.968,343,11.29,671,23.3,2.14,0.951,62.3,652.3\n",
    "360,0.6209,1.034,2.645,2291,4.203,1.983,324,11.49,674,23.7,2.02,0.96,61.4,697.9\n",
    "365,0.7514,1.038,2.212,2278,4.209,1.999,306,11.69,677,24.1,1.91,0.969,60.5,707.1\n",
    "370,0.904,1.041,1.861,2265,4.214,2.017,289,11.89,679,24.5,1.8,0.978,59.5,728.7\n",
    "373.15,1.0133,1.044,1.679,2257,4.217,2.029,279,12.02,680,24.8,1.76,0.984,58.9,750.1\n",
    "375,1.0815,1.045,1.574,2252,4.22,2.036,274,12.09,681,24.9,1.7,0.987,58.6,761\n",
    "380,1.2869,1.049,1.337,2239,4.226,2.057,260,12.29,683,25.4,1.61,0.999,57.6,788\n",
    "385,1.5233,1.053,1.142,2225,4.232,2.08,248,12.49,685,25.8,1.53,1.004,56.6,814\n",
    "390,1.794,1.058,0.98,2212,4.239,2.104,237,12.69,686,26.3,1.47,1.013,55.6,841\n",
    "400,2.455,1.067,0.731,2183,4.256,2.158,217,13.05,688,27.2,1.34,1.033,53.6,896\n",
    "410,3.302,1.077,0.553,2153,4.278,2.221,200,13.42,688,28.2,1.24,1.054,51.5,952\n",
    "420,4.37,1.088,0.425,2123,4.302,2.291,185,13.79,688,29.8,1.16,1.075,49.4,1010\n",
    "430,5.699,1.099,0.331,2091,4.331,2.369,173,14.14,685,30.4,1.09,1.1,47.2,nan\n",
    "440,7.333,1.11,0.261,2059,4.36,2.46,162,14.5,682,31.7,1.04,1.12,45.1,nan\n",
    "450,9.319,1.123,0.208,2024,4.4,2.56,152,14.85,678,33.1,0.99,1.14,42.9,nan\n",
    "460,11.71,1.137,0.167,1989,4.44,2.68,143,15.19,673,34.6,0.95,1.17,40.7,nan\n",
    "470,14.55,1.152,0.136,1951,4.48,2.79,136,15.54,667,36.3,0.92,1.2,38.5,nan\n",
    "480,17.9,1.167,0.111,1912,4.53,2.94,129,15.88,660,38.1,0.89,1.23,36.2,nan\n",
    "490,21.83,1.184,0.0922,1870,4.59,3.1,124,16.23,651,40.1,0.87,1.25,33.9,nan\n",
    "500,26.4,1.203,0.0766,1825,4.66,3.27,118,16.59,642,42.3,0.86,1.28,31.6,nan\n",
    "510,31.66,1.222,0.0631,1779,4.74,3.47,113,16.95,631,44.7,0.85,1.31,29.3,nan\n",
    "520,37.7,1.244,0.0525,1730,4.84,3.7,108,17.33,621,47.5,0.84,1.35,26.9,nan\n",
    "530,44.58,1.268,0.0445,1679,4.95,3.96,104,17.72,608,50.6,0.85,1.39,24.5,nan\n",
    "540,52.38,1.294,0.0375,1622,5.08,4.27,101,18.1,594,54,0.86,1.43,22.1,nan\n",
    "550,61.19,1.323,0.0317,1564,5.24,4.64,97,18.6,580,58.3,0.87,1.47,19.7,nan\n",
    "560,71.08,1.355,0.0269,1499,5.43,5.09,94,19.1,563,63.7,0.9,1.52,17.3,nan\n",
    "570,82.16,1.392,0.0228,1429,5.68,5.67,91,19.7,548,76.7,0.94,1.59,15,nan\n",
    "580,94.51,1.433,0.0193,1353,6,6.4,88,20.4,528,76.7,0.99,1.68,12.8,nan\n",
    "590,108.3,1.482,0.0163,1274,6.41,7.35,84,21.5,513,84.1,1.05,1.84,10.5,nan\n",
    "600,123.5,1.541,0.0137,1176,7,8.75,81,22.7,497,92.9,1.14,2.15,8.4,nan\n",
    "610,137.3,1.612,0.0115,1068,7.85,11.1,77,24.1,467,103,1.3,2.6,6.3,nan\n",
    "620,159.1,1.705,0.0094,941,9.35,15.4,72,25.9,444,114,1.52,3.46,4.5,nan\n",
    "625,169.1,1.778,0.0085,858,10.6,18.3,70,27,430,121,1.65,4.2,3.5,nan\n",
    "630,179.7,1.856,0.0075,781,12.6,22.1,67,28,412,130,2,4.8,2.6,nan\n",
    "635,190.9,1.935,0.0066,683,16.4,27.6,64,30,392,141,2.7,6,1.5,nan\n",
    "640,202.7,2.075,0.0057,560,26,42,59,32,367,155,4.2,9.6,0.8,nan\n",
    "645,215.2,2.351,0.0045,361,90,nan,54,37,331,178,12,26,0.1,nan\n",
    "647.3,221.2,3.17,0.0032,0,inf,inf,45,45,238,238,inf,inf,0,nan\"\"\"\n",
    "\n",
    "def extract_data(data, T1, T2):\n",
    "    \"\"\"Designed to save memory (destroys contents of data)\"\"\"\n",
    "    def tofloat(l):\n",
    "        return [float(e) for e in l]\n",
    "    \n",
    "    vals1, vals2 = None, None\n",
    "    data = data.split()\n",
    "    for i in range(len(data)):\n",
    "        line = data.pop().split(',')\n",
    "        T = float(line[0])\n",
    "        if T == T1:\n",
    "            vals1 = tofloat(line)\n",
    "        elif T == T2:\n",
    "            vals2 = tofloat(line)\n",
    "    \n",
    "    if vals1 is None or vals2 is None:\n",
    "        raise ValueError('T1 or T2 not in data')\n",
    "        \n",
    "    return vals1[1:], vals2[1:]\n",
    "\n",
    "getfloat = lambda msg: float(input(msg))\n",
    "T1 = getfloat('Temp 1:')\n",
    "T2 = getfloat('Temp 2:')\n",
    "T = getfloat('Temp interp:')\n",
    "\n",
    "vals1, vals2 = extract_data(data, T1, T2)\n",
    "del data\n",
    "\n",
    "interpdata = []\n",
    "for i in range(len(cols)):\n",
    "    val = interp(T,T1,T2,vals1[i],vals2[i])\n",
    "    interpdata.append(val * 10 ** (-exponent[i]))\n",
    "\n",
    "for k,v in zip(cols, interpdata):\n",
    "    out(k,v)\n"
   ]
  },
  {
   "cell_type": "code",
   "execution_count": 34,
   "metadata": {},
   "outputs": [
    {
     "name": "stdout",
     "output_type": "stream",
     "text": [
      "([0.6209, 1.034, 2.645, 2291.0, 4.203, 1.983, 324.0, 11.49, 674.0, 23.7, 2.02, 0.96, 61.4, 697.9], [0.7514, 1.038, 2.212, 2278.0, 4.209, 1.999, 306.0, 11.69, 677.0, 24.1, 1.91, 0.969, 60.5, 707.1])\n"
     ]
    }
   ],
   "source": [
    "copy = data\n",
    "print(extract_data(copy, 360, 365))"
   ]
  },
  {
   "cell_type": "code",
   "execution_count": 18,
   "metadata": {},
   "outputs": [],
   "source": [
    "def test(l):\n",
    "    for i in range(len(l)):\n",
    "        print(i)\n",
    "        l.pop()"
   ]
  },
  {
   "cell_type": "code",
   "execution_count": 19,
   "metadata": {},
   "outputs": [
    {
     "name": "stdout",
     "output_type": "stream",
     "text": [
      "0\n",
      "1\n",
      "2\n",
      "[]\n"
     ]
    }
   ],
   "source": [
    "l = [0,1,2]\n",
    "test(l)\n",
    "print(l)"
   ]
  },
  {
   "cell_type": "code",
   "execution_count": 4,
   "metadata": {},
   "outputs": [
    {
     "data": {
      "text/plain": [
       "55"
      ]
     },
     "execution_count": 4,
     "metadata": {},
     "output_type": "execute_result"
    }
   ],
   "source": [
    "len(data.split())"
   ]
  },
  {
   "cell_type": "code",
   "execution_count": 7,
   "metadata": {},
   "outputs": [],
   "source": [
    "from sys import getsizeof"
   ]
  },
  {
   "cell_type": "code",
   "execution_count": 10,
   "metadata": {},
   "outputs": [],
   "source": [
    "res = data.split()"
   ]
  },
  {
   "cell_type": "code",
   "execution_count": 13,
   "metadata": {},
   "outputs": [
    {
     "data": {
      "text/plain": [
       "131"
      ]
     },
     "execution_count": 13,
     "metadata": {},
     "output_type": "execute_result"
    }
   ],
   "source": [
    "getsizeof(res[0])"
   ]
  },
  {
   "cell_type": "code",
   "execution_count": 14,
   "metadata": {},
   "outputs": [
    {
     "data": {
      "text/plain": [
       "82"
      ]
     },
     "execution_count": 14,
     "metadata": {},
     "output_type": "execute_result"
    }
   ],
   "source": [
    "len(res[0])"
   ]
  }
 ],
 "metadata": {
  "kernelspec": {
   "display_name": "Python 3",
   "language": "python",
   "name": "python3"
  },
  "language_info": {
   "codemirror_mode": {
    "name": "ipython",
    "version": 3
   },
   "file_extension": ".py",
   "mimetype": "text/x-python",
   "name": "python",
   "nbconvert_exporter": "python",
   "pygments_lexer": "ipython3",
   "version": "3.7.7"
  }
 },
 "nbformat": 4,
 "nbformat_minor": 4
}
