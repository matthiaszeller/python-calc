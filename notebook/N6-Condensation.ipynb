{
 "cells": [
  {
   "cell_type": "code",
   "execution_count": null,
   "metadata": {},
   "outputs": [],
   "source": [
    "from utility import *"
   ]
  },
  {
   "cell_type": "markdown",
   "metadata": {},
   "source": [
    "# Condensation\n",
    "\n",
    "## External condensation on vertical plate\n",
    "\n",
    "### Average values (laminar and turbulent)"
   ]
  },
  {
   "cell_type": "code",
   "execution_count": 6,
   "metadata": {},
   "outputs": [],
   "source": [
    "def Re_delta():\n",
    "    pr('Special Reynolds number for condensation (avg values)')\n",
    "    p = get_params(['k_l', 'L', 'mu_l', \"h'_fg\", 'nu_l', 'g', 'Pr_l', 'deltaT'])\n",
    "    common = p['k_l'] * p['L'] * p['deltaT']\n",
    "    common /= (p['mu_l'] * p[\"h'_fg\"] * (p['nu_l']**2 / p['g']) ** (1/3))\n",
    "    \n",
    "    res = 3.78 * common ** (3/4)\n",
    "    out('Laminar', res)\n",
    "    \n",
    "    res = (3.7 * common + 4.8) ** 0.82\n",
    "    out('Wavy', res)\n",
    "    \n",
    "    res = (0.069 * common * p['Pr_l'] ** 0.5 - 151*p['Pr_l']**0.5 + 253) ** (4/3)\n",
    "    out('Turbulent', res)"
   ]
  },
  {
   "cell_type": "markdown",
   "metadata": {},
   "source": [
    "## Options\n",
    "\n"
   ]
  },
  {
   "cell_type": "code",
   "execution_count": 3,
   "metadata": {},
   "outputs": [],
   "source": [
    "optmap = {\"vertplate-Re-delta\": Re_delta}"
   ]
  },
  {
   "cell_type": "code",
   "execution_count": 4,
   "metadata": {},
   "outputs": [
    {
     "name": "stdout",
     "output_type": "stream",
     "text": [
      "Choose type: \n",
      "{1: 'vertplate-Re-delta'}\n"
     ]
    },
    {
     "name": "stdin",
     "output_type": "stream",
     "text": [
      ">  1\n"
     ]
    },
    {
     "name": "stdout",
     "output_type": "stream",
     "text": [
      "\n",
      "=============================\n",
      "\n",
      "Special Reynolds number for condensation (avg values)\n"
     ]
    },
    {
     "name": "stdin",
     "output_type": "stream",
     "text": [
      "k_l =  0.6758\n",
      "L =  0.01414\n",
      "mu_l =  313e-6\n",
      "h'_fg =  2.324e6\n",
      "v_l =  1.0364e-3\n",
      "g =  9.81\n",
      "Pr_l =  1\n",
      "deltaT =  20\n"
     ]
    },
    {
     "name": "stdout",
     "output_type": "stream",
     "text": [
      "{'k_l': 0.6758, 'L':\n",
      "0.01414, 'mu_l': 0.000313,\n",
      "\"h'_fg\": 2324000.0, 'v_l':\n",
      "0.0010364, 'g': 9.81,\n",
      "'Pr_l': 1.0, 'deltaT': 20.0}\n",
      "Laminar = 0.42883\n",
      "Wavy = 3.7444\n",
      "Turbulent = 476.6\n"
     ]
    }
   ],
   "source": [
    "choose_opt('type', optmap)"
   ]
  }
 ],
 "metadata": {
  "kernelspec": {
   "display_name": "Python 3",
   "language": "python",
   "name": "python3"
  },
  "language_info": {
   "codemirror_mode": {
    "name": "ipython",
    "version": 3
   },
   "file_extension": ".py",
   "mimetype": "text/x-python",
   "name": "python",
   "nbconvert_exporter": "python",
   "pygments_lexer": "ipython3",
   "version": "3.7.7"
  }
 },
 "nbformat": 4,
 "nbformat_minor": 4
}
