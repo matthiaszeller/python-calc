{
 "cells": [
  {
   "cell_type": "code",
   "execution_count": 1,
   "metadata": {},
   "outputs": [],
   "source": [
    "%load_ext autoreload\n",
    "%autoreload 2"
   ]
  },
  {
   "cell_type": "code",
   "execution_count": 2,
   "metadata": {},
   "outputs": [],
   "source": [
    "from math import *"
   ]
  },
  {
   "cell_type": "code",
   "execution_count": 10,
   "metadata": {},
   "outputs": [],
   "source": [
    "# THIS IS A COPY PASTE OF UTILITY NOTEBOOK\n",
    "def get(varname):\n",
    "    try:\n",
    "        inp = float(input(varname + ' = '))\n",
    "        return inp\n",
    "    except:\n",
    "        return get(varname)\n",
    "\n",
    "\n",
    "def get_params(lst):\n",
    "\tparams = {}\n",
    "\tfor p in lst:\n",
    "\t\tparams[p] = get(p)\n",
    "\tprint(params)\n",
    "\treturn params\n",
    "\n",
    "\n",
    "def choose_opt(descr, optmap):\n",
    "    \"\"\"Only lowcase letter in optmap !\"\"\"\n",
    "    intmap = {i+1:opt for i, opt in enumerate(optmap)}\n",
    "    opt_txt = ', '.join([e+':'+str(k) for k,e in intmap.items()])\n",
    "    inp = input('Choose ' + descr + ' ' + opt_txt + ':')\n",
    "    try:\n",
    "        inp = int(inp)\n",
    "        inp = intmap[inp]\n",
    "    except:\n",
    "        inp = inp.lower()\n",
    "    return optmap[inp]()\n",
    "\n",
    "sci = lambda x: \"{:.4e}\".format(x)\n",
    "\n",
    "def out(desc, val):\n",
    "    if val > 9999 or val < 0.000999999:\n",
    "        val = sci(val)\n",
    "    else: val = \"{:.4}\".format(val)\n",
    "    print(desc + ' = ' + val)"
   ]
  },
  {
   "cell_type": "markdown",
   "metadata": {},
   "source": [
    "# Dimensionless Temperature and Heat Transfer Rate"
   ]
  },
  {
   "cell_type": "code",
   "execution_count": 4,
   "metadata": {},
   "outputs": [],
   "source": [
    "def BC_convection():\n",
    "    print('Convection BC')\n",
    "    p = ['x', 'L', 'm', 'h', 'k', 'M']\n",
    "    p = get_params(p)\n",
    "    h_mk = p['h'] / (p['m']*p['k'])\n",
    "    \n",
    "    # theta / theta_b\n",
    "    num = cosh(p['m']*(p['L']-p['x'])) + h_mk * sinh(p['m']*(p['L']-p['x']))\n",
    "    den = cosh(p['m']*p['L']) + h_mk * sinh(p['m']*p['L'])\n",
    "    out('theta/theta_b', num/den)\n",
    "    \n",
    "    # Qf\n",
    "    num = sinh(p['m']*p['L']) + h_mk * cosh(p['m']*p['L'])\n",
    "    den = cosh(p['m']*p['L']) + h_mk * sinh(p['m']*p['L'])\n",
    "    coef = num / den\n",
    "    out('All but M', coef)\n",
    "    out('Qf', p['M'] * coef)"
   ]
  },
  {
   "cell_type": "code",
   "execution_count": 5,
   "metadata": {},
   "outputs": [],
   "source": [
    "def BC_adia():\n",
    "    print('Adiabatic BC')\n",
    "    p = get_params(['x', 'L', 'm', 'M'])\n",
    "    \n",
    "    out('theta/theta_b', \n",
    "          cosh(p['m']*(p['L']-p['x'])) / cosh(p['m']*p['L']))\n",
    "    coef = tanh(p['m']*p['L'])\n",
    "    \n",
    "    out('All but M', coef)\n",
    "    out('Qf', p['M'] * coef)"
   ]
  },
  {
   "cell_type": "code",
   "execution_count": 6,
   "metadata": {},
   "outputs": [],
   "source": [
    "def BC_temp():\n",
    "    print('Temperature BC')\n",
    "    p = get_params(['x', 'L', 'm', 'M', 'theta_L', 'theta_b'])\n",
    "    \n",
    "    num = p['theta_L'] / p['theta_b'] * sinh(p['m']*p['x'])\n",
    "    num += sinh(p['m'] * (p['L'] - p['x']))\n",
    "    den = sinh(p['m'] * p['L'])\n",
    "    out(\"theta/theta_b\", num / den)\n",
    "    \n",
    "    num = cosh(p['m'] * p['L']) - p['theta_L'] / p['theta_b']\n",
    "    # same deno\n",
    "    coef = num / den\n",
    "    out(\"All but M\", coef)\n",
    "    out(\"Qf\", p['M'] * coef)"
   ]
  },
  {
   "cell_type": "code",
   "execution_count": 7,
   "metadata": {},
   "outputs": [],
   "source": [
    "opt = {'a': BC_convection, 'b':BC_adia, 'c':BC_temp}"
   ]
  },
  {
   "cell_type": "code",
   "execution_count": 8,
   "metadata": {},
   "outputs": [
    {
     "name": "stdin",
     "output_type": "stream",
     "text": [
      "Choose boundary condition a:1, b:2, c:3: b\n"
     ]
    },
    {
     "name": "stdout",
     "output_type": "stream",
     "text": [
      "Adiabatic BC\n"
     ]
    },
    {
     "name": "stdin",
     "output_type": "stream",
     "text": [
      "x =  1\n",
      "L =  2\n",
      "m =  4\n",
      "M =  5\n"
     ]
    },
    {
     "name": "stdout",
     "output_type": "stream",
     "text": [
      "{'x': 1.0, 'L': 2.0, 'm': 4.0, 'M': 5.0}\n",
      "theta/theta_b = 0.018321781039242677\n",
      "All but M = 0.9999997749296758\n",
      "Qf = 4.999998874648379\n"
     ]
    }
   ],
   "source": [
    "choose_opt('boundary condition', opt)"
   ]
  },
  {
   "cell_type": "code",
   "execution_count": 11,
   "metadata": {},
   "outputs": [
    {
     "name": "stdin",
     "output_type": "stream",
     "text": [
      "Choose boundary condition a:1, b:2, c:3: b\n"
     ]
    },
    {
     "name": "stdout",
     "output_type": "stream",
     "text": [
      "Adiabatic BC\n"
     ]
    },
    {
     "name": "stdin",
     "output_type": "stream",
     "text": [
      "x =  .1\n",
      "L =  .3\n",
      "m =  4\n",
      "M =  .00003\n"
     ]
    },
    {
     "name": "stdout",
     "output_type": "stream",
     "text": [
      "{'x': 0.1, 'L': 0.3, 'm': 4.0, 'M': 3e-05}\n",
      "theta/theta_b = 0.7386\n",
      "All but M = 0.8337\n",
      "Qf = 2.5010e-05\n"
     ]
    }
   ],
   "source": [
    "choose_opt('boundary condition', opt)"
   ]
  }
 ],
 "metadata": {
  "kernelspec": {
   "display_name": "Python 3",
   "language": "python",
   "name": "python3"
  },
  "language_info": {
   "codemirror_mode": {
    "name": "ipython",
    "version": 3
   },
   "file_extension": ".py",
   "mimetype": "text/x-python",
   "name": "python",
   "nbconvert_exporter": "python",
   "pygments_lexer": "ipython3",
   "version": "3.7.3"
  }
 },
 "nbformat": 4,
 "nbformat_minor": 4
}
